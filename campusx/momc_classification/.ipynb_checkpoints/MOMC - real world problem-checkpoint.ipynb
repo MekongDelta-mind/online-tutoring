{
 "cells": [
  {
   "cell_type": "markdown",
   "metadata": {
    "id": "nWNjtcUNTHnX"
   },
   "source": [
    "# CRISP-DM Framework\n",
    "\n",
    "CRISP-DM = Cross-industry standard process for data mining.\n",
    "\n"
   ]
  },
  {
   "cell_type": "markdown",
   "metadata": {
    "id": "nxBWWZhSSGYq"
   },
   "source": [
    "# Business / Problem Statement Understanding"
   ]
  },
  {
   "cell_type": "markdown",
   "metadata": {
    "id": "V4B_loqOTenY"
   },
   "source": [
    "NOTE: This is a fictitious problem with very real world data.\n",
    "\n",
    "Given are the properties of pet ( both cat and dog ). Based on the properties we have to find out:\n",
    "* the type of the pet ( dog ot cat ).\n",
    "* the adoption speed ( ranging from 0 to 4 ) of the given pet.\n",
    "\n",
    "This is a `Multi Output Multi Class CLassification Problem`.\n",
    "\n"
   ]
  },
  {
   "cell_type": "markdown",
   "metadata": {
    "id": "JSvRfp9qVui6"
   },
   "source": [
    "<details>\n",
    "<summary><b><font size=\"+1\">How Multi Output Multi Class CLassification Problem ?</font></b></summary>\n",
    "\n",
    "`Multi Output` - As there are 2 targets ( **type of the pet** and **adoption speed of the pet** )\n",
    "\n",
    "`Multi Class` - one of the target ( **adoption speed** ) has 4 classes named 0,1,2,3,4\n",
    "\n",
    "</details>\n",
    "\n",
    "\n"
   ]
  },
  {
   "cell_type": "markdown",
   "metadata": {
    "id": "sYc0J9f7SOn7"
   },
   "source": [
    "# Data Understanding"
   ]
  },
  {
   "cell_type": "markdown",
   "metadata": {
    "id": "p-yvrW_LW-pI"
   },
   "source": [
    "## Data Dictionary"
   ]
  },
  {
   "cell_type": "markdown",
   "metadata": {
    "id": "E0memp_CXW8g"
   },
   "source": [
    "Features:\n",
    "1. `PetID` - Unique hash ID of pet profile\n",
    "1. `Name` - Name of pet (Empty if not named)\n",
    "1. `Age` - Age of pet when listed, in months\n",
    "1. `Breed1` - Primary breed of pet (Refer to BreedLabels dictionary)\n",
    "1. `Breed2` - Secondary breed of pet, if pet is of mixed breed (Refer to BreedLabels dictionary)\n",
    "1. `Gender` - Gender of pet (1 = Male, 2 = Female, 3 = Mixed, if profile represents group of pets)\n",
    "1. `Color1` - Color 1 of pet (Refer to ColorLabels dictionary)\n",
    "1. `Color2` - Color 2 of pet (Refer to ColorLabels dictionary)\n",
    "1. `Color3` - Color 3 of pet (Refer to ColorLabels dictionary)\n",
    "1. `MaturitySize` - Size at maturity (1 = Small, 2 = Medium, 3 = Large, 4 = Extra Large, 0 = Not Specified)\n",
    "1. `FurLength` - Fur length (1 = Short, 2 = Medium, 3 = Long, 0 = Not Specified)\n",
    "1. `Vaccinated` - Pet has been vaccinated (1 = Yes, 2 = No, 3 = Not Sure)\n",
    "1. `Dewormed` - Pet has been dewormed (1 = Yes, 2 = No, 3 = Not Sure)\n",
    "1. `Sterilized` - Pet has been spayed / neutered (1 = Yes, 2 = No, 3 = Not Sure)\n",
    "1. `Health` - Health Condition (1 = Healthy, 2 = Minor Injury, 3 = Serious Injury, 0 = Not Specified)\n",
    "1. `Quantity` - Number of pets represented in profile\n",
    "1. `Fee` - Adoption fee (0 = Free)\n",
    "1. `State` - State location in Malaysia (Refer to StateLabels dictionary)\n",
    "1. `RescuerID` - Unique hash ID of rescuer\n",
    "1. `VideoAmt` - Total uploaded videos for this pet\n",
    "1. `PhotoAmt` - Total uploaded photos for this pet\n",
    "1. `Description` - Profile write-up for this pet. The primary language used is English, with some in Malay or Chinese.\n",
    "\n",
    "Targets:\n",
    "1. `AdoptionSpeed` - Categorical speed of adoption. Lower is faster. This is the value to predict. See below section for more info.\n",
    "1. `Type` - Type of animal (1 = Dog, 2 = Cat)\n"
   ]
  },
  {
   "cell_type": "markdown",
   "metadata": {
    "id": "LjkfS6ImYwWJ"
   },
   "source": [
    "AdoptionSpeed:\n",
    "The value is determined by how quickly, if at all, a pet is adopted. The values are determined in the following way:\n",
    "\n",
    "* `0` - Pet was adopted on the same day as it was listed.\n",
    "* `1` - Pet was adopted between 1 and 7 days (1st week) after being listed.\n",
    "* `2` - Pet was adopted between 8 and 30 days (1st month) after being listed.\n",
    "* `3` - Pet was adopted between 31 and 90 days (2nd & 3rd month) after being listed.\n",
    "* `4` - No adoption after 100 days of being listed. (There are no pets in this dataset that waited between 90 and 100 days)."
   ]
  },
  {
   "cell_type": "code",
   "execution_count": 1,
   "metadata": {
    "executionInfo": {
     "elapsed": 1087,
     "status": "ok",
     "timestamp": 1710829459517,
     "user": {
      "displayName": "Prabin Kumar Nayak",
      "userId": "08357207907825346919"
     },
     "user_tz": -330
    },
    "id": "1wIIGBoQX9PB"
   },
   "outputs": [],
   "source": [
    "import pandas as pd\n",
    "import numpy as np"
   ]
  },
  {
   "cell_type": "code",
   "execution_count": 2,
   "metadata": {
    "colab": {
     "base_uri": "https://localhost:8080/",
     "height": 568
    },
    "executionInfo": {
     "elapsed": 879,
     "status": "ok",
     "timestamp": 1710834051952,
     "user": {
      "displayName": "Prabin Kumar Nayak",
      "userId": "08357207907825346919"
     },
     "user_tz": -330
    },
    "id": "tJ8QfqCSp2eO",
    "outputId": "7c214895-40cf-4f9c-ec78-99161d58855b"
   },
   "outputs": [],
   "source": [
    "df = pd.read_csv(\"./pet_train.csv\")"
   ]
  },
  {
   "cell_type": "code",
   "execution_count": 3,
   "metadata": {
    "executionInfo": {
     "elapsed": 474,
     "status": "ok",
     "timestamp": 1710834567996,
     "user": {
      "displayName": "Prabin Kumar Nayak",
      "userId": "08357207907825346919"
     },
     "user_tz": -330
    },
    "id": "lCAFG_kWrHKE"
   },
   "outputs": [],
   "source": [
    "new_col_order = ['PetID','Name', 'Age', 'Breed1', 'Breed2', 'Gender', 'Color1', 'Color2', 'Color3', 'MaturitySize', 'FurLength', 'Vaccinated', 'Dewormed', 'Sterilized', 'Health', 'Quantity', 'Fee', 'State', 'RescuerID', 'VideoAmt', 'Description',  'PhotoAmt', 'Type','AdoptionSpeed']\n",
    "df = df.reindex(columns=new_col_order)"
   ]
  },
  {
   "cell_type": "code",
   "execution_count": 4,
   "metadata": {
    "colab": {
     "base_uri": "https://localhost:8080/",
     "height": 568
    },
    "executionInfo": {
     "elapsed": 533,
     "status": "ok",
     "timestamp": 1710834582792,
     "user": {
      "displayName": "Prabin Kumar Nayak",
      "userId": "08357207907825346919"
     },
     "user_tz": -330
    },
    "id": "cN3zPF8Er_bL",
    "outputId": "ae0f9e82-5f82-406d-d04b-7defdf2ce97f"
   },
   "outputs": [
    {
     "data": {
      "text/html": [
       "<div>\n",
       "<style scoped>\n",
       "    .dataframe tbody tr th:only-of-type {\n",
       "        vertical-align: middle;\n",
       "    }\n",
       "\n",
       "    .dataframe tbody tr th {\n",
       "        vertical-align: top;\n",
       "    }\n",
       "\n",
       "    .dataframe thead th {\n",
       "        text-align: right;\n",
       "    }\n",
       "</style>\n",
       "<table border=\"1\" class=\"dataframe\">\n",
       "  <thead>\n",
       "    <tr style=\"text-align: right;\">\n",
       "      <th></th>\n",
       "      <th>PetID</th>\n",
       "      <th>Name</th>\n",
       "      <th>Age</th>\n",
       "      <th>Breed1</th>\n",
       "      <th>Breed2</th>\n",
       "      <th>Gender</th>\n",
       "      <th>Color1</th>\n",
       "      <th>Color2</th>\n",
       "      <th>Color3</th>\n",
       "      <th>MaturitySize</th>\n",
       "      <th>...</th>\n",
       "      <th>Health</th>\n",
       "      <th>Quantity</th>\n",
       "      <th>Fee</th>\n",
       "      <th>State</th>\n",
       "      <th>RescuerID</th>\n",
       "      <th>VideoAmt</th>\n",
       "      <th>Description</th>\n",
       "      <th>PhotoAmt</th>\n",
       "      <th>Type</th>\n",
       "      <th>AdoptionSpeed</th>\n",
       "    </tr>\n",
       "  </thead>\n",
       "  <tbody>\n",
       "    <tr>\n",
       "      <th>0</th>\n",
       "      <td>86e1089a3</td>\n",
       "      <td>Nibble</td>\n",
       "      <td>3</td>\n",
       "      <td>299</td>\n",
       "      <td>0</td>\n",
       "      <td>1</td>\n",
       "      <td>1</td>\n",
       "      <td>7</td>\n",
       "      <td>0</td>\n",
       "      <td>1</td>\n",
       "      <td>...</td>\n",
       "      <td>1</td>\n",
       "      <td>1</td>\n",
       "      <td>100</td>\n",
       "      <td>41326</td>\n",
       "      <td>8480853f516546f6cf33aa88cd76c379</td>\n",
       "      <td>0</td>\n",
       "      <td>Nibble is a 3+ month old ball of cuteness. He ...</td>\n",
       "      <td>1.0</td>\n",
       "      <td>2</td>\n",
       "      <td>2</td>\n",
       "    </tr>\n",
       "    <tr>\n",
       "      <th>1</th>\n",
       "      <td>6296e909a</td>\n",
       "      <td>No Name Yet</td>\n",
       "      <td>1</td>\n",
       "      <td>265</td>\n",
       "      <td>0</td>\n",
       "      <td>1</td>\n",
       "      <td>1</td>\n",
       "      <td>2</td>\n",
       "      <td>0</td>\n",
       "      <td>2</td>\n",
       "      <td>...</td>\n",
       "      <td>1</td>\n",
       "      <td>1</td>\n",
       "      <td>0</td>\n",
       "      <td>41401</td>\n",
       "      <td>3082c7125d8fb66f7dd4bff4192c8b14</td>\n",
       "      <td>0</td>\n",
       "      <td>I just found it alone yesterday near my apartm...</td>\n",
       "      <td>2.0</td>\n",
       "      <td>2</td>\n",
       "      <td>0</td>\n",
       "    </tr>\n",
       "    <tr>\n",
       "      <th>2</th>\n",
       "      <td>3422e4906</td>\n",
       "      <td>Brisco</td>\n",
       "      <td>1</td>\n",
       "      <td>307</td>\n",
       "      <td>0</td>\n",
       "      <td>1</td>\n",
       "      <td>2</td>\n",
       "      <td>7</td>\n",
       "      <td>0</td>\n",
       "      <td>2</td>\n",
       "      <td>...</td>\n",
       "      <td>1</td>\n",
       "      <td>1</td>\n",
       "      <td>0</td>\n",
       "      <td>41326</td>\n",
       "      <td>fa90fa5b1ee11c86938398b60abc32cb</td>\n",
       "      <td>0</td>\n",
       "      <td>Their pregnant mother was dumped by her irresp...</td>\n",
       "      <td>7.0</td>\n",
       "      <td>1</td>\n",
       "      <td>3</td>\n",
       "    </tr>\n",
       "    <tr>\n",
       "      <th>3</th>\n",
       "      <td>5842f1ff5</td>\n",
       "      <td>Miko</td>\n",
       "      <td>4</td>\n",
       "      <td>307</td>\n",
       "      <td>0</td>\n",
       "      <td>2</td>\n",
       "      <td>1</td>\n",
       "      <td>2</td>\n",
       "      <td>0</td>\n",
       "      <td>2</td>\n",
       "      <td>...</td>\n",
       "      <td>1</td>\n",
       "      <td>1</td>\n",
       "      <td>150</td>\n",
       "      <td>41401</td>\n",
       "      <td>9238e4f44c71a75282e62f7136c6b240</td>\n",
       "      <td>0</td>\n",
       "      <td>Good guard dog, very alert, active, obedience ...</td>\n",
       "      <td>8.0</td>\n",
       "      <td>1</td>\n",
       "      <td>2</td>\n",
       "    </tr>\n",
       "    <tr>\n",
       "      <th>4</th>\n",
       "      <td>850a43f90</td>\n",
       "      <td>Hunter</td>\n",
       "      <td>1</td>\n",
       "      <td>307</td>\n",
       "      <td>0</td>\n",
       "      <td>1</td>\n",
       "      <td>1</td>\n",
       "      <td>0</td>\n",
       "      <td>0</td>\n",
       "      <td>2</td>\n",
       "      <td>...</td>\n",
       "      <td>1</td>\n",
       "      <td>1</td>\n",
       "      <td>0</td>\n",
       "      <td>41326</td>\n",
       "      <td>95481e953f8aed9ec3d16fc4509537e8</td>\n",
       "      <td>0</td>\n",
       "      <td>This handsome yet cute boy is up for adoption....</td>\n",
       "      <td>3.0</td>\n",
       "      <td>1</td>\n",
       "      <td>2</td>\n",
       "    </tr>\n",
       "  </tbody>\n",
       "</table>\n",
       "<p>5 rows × 24 columns</p>\n",
       "</div>"
      ],
      "text/plain": [
       "       PetID         Name  Age  Breed1  Breed2  Gender  Color1  Color2  \\\n",
       "0  86e1089a3       Nibble    3     299       0       1       1       7   \n",
       "1  6296e909a  No Name Yet    1     265       0       1       1       2   \n",
       "2  3422e4906       Brisco    1     307       0       1       2       7   \n",
       "3  5842f1ff5         Miko    4     307       0       2       1       2   \n",
       "4  850a43f90       Hunter    1     307       0       1       1       0   \n",
       "\n",
       "   Color3  MaturitySize  ...  Health  Quantity  Fee  State  \\\n",
       "0       0             1  ...       1         1  100  41326   \n",
       "1       0             2  ...       1         1    0  41401   \n",
       "2       0             2  ...       1         1    0  41326   \n",
       "3       0             2  ...       1         1  150  41401   \n",
       "4       0             2  ...       1         1    0  41326   \n",
       "\n",
       "                          RescuerID  VideoAmt  \\\n",
       "0  8480853f516546f6cf33aa88cd76c379         0   \n",
       "1  3082c7125d8fb66f7dd4bff4192c8b14         0   \n",
       "2  fa90fa5b1ee11c86938398b60abc32cb         0   \n",
       "3  9238e4f44c71a75282e62f7136c6b240         0   \n",
       "4  95481e953f8aed9ec3d16fc4509537e8         0   \n",
       "\n",
       "                                         Description  PhotoAmt Type  \\\n",
       "0  Nibble is a 3+ month old ball of cuteness. He ...       1.0    2   \n",
       "1  I just found it alone yesterday near my apartm...       2.0    2   \n",
       "2  Their pregnant mother was dumped by her irresp...       7.0    1   \n",
       "3  Good guard dog, very alert, active, obedience ...       8.0    1   \n",
       "4  This handsome yet cute boy is up for adoption....       3.0    1   \n",
       "\n",
       "   AdoptionSpeed  \n",
       "0              2  \n",
       "1              0  \n",
       "2              3  \n",
       "3              2  \n",
       "4              2  \n",
       "\n",
       "[5 rows x 24 columns]"
      ]
     },
     "execution_count": 4,
     "metadata": {},
     "output_type": "execute_result"
    }
   ],
   "source": [
    "df.head()"
   ]
  },
  {
   "cell_type": "code",
   "execution_count": 5,
   "metadata": {
    "executionInfo": {
     "elapsed": 468,
     "status": "ok",
     "timestamp": 1710834594848,
     "user": {
      "displayName": "Prabin Kumar Nayak",
      "userId": "08357207907825346919"
     },
     "user_tz": -330
    },
    "id": "8QVfhg38ezlF"
   },
   "outputs": [],
   "source": [
    "orig_df = df"
   ]
  },
  {
   "cell_type": "code",
   "execution_count": 6,
   "metadata": {
    "colab": {
     "base_uri": "https://localhost:8080/"
    },
    "executionInfo": {
     "elapsed": 16,
     "status": "ok",
     "timestamp": 1710834595735,
     "user": {
      "displayName": "Prabin Kumar Nayak",
      "userId": "08357207907825346919"
     },
     "user_tz": -330
    },
    "id": "ofy8I4SXqKNR",
    "outputId": "659a1cc1-e54d-459a-ca38-f2d41a7f354d"
   },
   "outputs": [
    {
     "data": {
      "text/plain": [
       "PetID             object\n",
       "Name              object\n",
       "Age                int64\n",
       "Breed1             int64\n",
       "Breed2             int64\n",
       "Gender             int64\n",
       "Color1             int64\n",
       "Color2             int64\n",
       "Color3             int64\n",
       "MaturitySize       int64\n",
       "FurLength          int64\n",
       "Vaccinated         int64\n",
       "Dewormed           int64\n",
       "Sterilized         int64\n",
       "Health             int64\n",
       "Quantity           int64\n",
       "Fee                int64\n",
       "State              int64\n",
       "RescuerID         object\n",
       "VideoAmt           int64\n",
       "Description       object\n",
       "PhotoAmt         float64\n",
       "Type               int64\n",
       "AdoptionSpeed      int64\n",
       "dtype: object"
      ]
     },
     "execution_count": 6,
     "metadata": {},
     "output_type": "execute_result"
    }
   ],
   "source": [
    "df.dtypes"
   ]
  },
  {
   "cell_type": "code",
   "execution_count": 7,
   "metadata": {
    "executionInfo": {
     "elapsed": 480,
     "status": "ok",
     "timestamp": 1710834637407,
     "user": {
      "displayName": "Prabin Kumar Nayak",
      "userId": "08357207907825346919"
     },
     "user_tz": -330
    },
    "id": "wzsvZrenqMCZ"
   },
   "outputs": [],
   "source": [
    "#Helper fundtion - finding unique values for the columns:\n",
    "def unique_values(df):\n",
    "  for col in df.columns:\n",
    "    print(f\"==================================Unique values for column ``` {col} ``` \")\n",
    "    print(df[col].unique())\n",
    "    print(f\"==============================END==============================\\n\")"
   ]
  },
  {
   "cell_type": "code",
   "execution_count": 8,
   "metadata": {
    "colab": {
     "base_uri": "https://localhost:8080/"
    },
    "executionInfo": {
     "elapsed": 4,
     "status": "ok",
     "timestamp": 1710834638889,
     "user": {
      "displayName": "Prabin Kumar Nayak",
      "userId": "08357207907825346919"
     },
     "user_tz": -330
    },
    "id": "V21TSreVrAWK",
    "outputId": "7c9bb3c0-b5c3-4972-9e8c-d6f334ea56ec"
   },
   "outputs": [
    {
     "name": "stdout",
     "output_type": "stream",
     "text": [
      "==================================Unique values for column ``` PetID ``` \n",
      "['86e1089a3' '6296e909a' '3422e4906' ... 'd981b6395' 'e4da1c9e4'\n",
      " 'a83d95ead']\n",
      "==============================END==============================\n",
      "\n",
      "==================================Unique values for column ``` Name ``` \n",
      "['Nibble' 'No Name Yet' 'Brisco' ... 'Monkies' 'Ms Daym' 'Fili']\n",
      "==============================END==============================\n",
      "\n",
      "==================================Unique values for column ``` Age ``` \n",
      "[  3   1   4  12   0   2  78   6   8  10  36  14  24   5  72  60   9  48\n",
      "  62  47  19 120  32   7  17  22  16  13  11  37  18  55  20  28  74  53\n",
      "  25  84  76  30 132  96  46  15  50  56  54  23  92  29  27  49  44 144\n",
      "  21  31  41  51  65  34 135  39  52  42 108  81  26  38  69 212  33  75\n",
      "  95  80  63  61 255  89  91  35 117  73 122 123  64  87 112 156  66  67\n",
      "  77 180  82  86  40  57 168 102  45 147  68  85  88  43 238 100]\n",
      "==============================END==============================\n",
      "\n",
      "==================================Unique values for column ``` Breed1 ``` \n",
      "[299 265 307 266 264 218 114 285 189 205 292 128 243 213 141 173 207 250\n",
      " 119 195 109 206  70 103 303  78 254  10  20 305 283 306 288  69 179  31\n",
      " 247 200 248  26  25   0 129 202  72  24 284 286 152 277  44  75  64  60\n",
      " 296 185 300  76 139 242 294 276 102 182 289 145 178 233  82  49 239 231\n",
      " 169 111 232 270 267 268 251  58 155 295 304 147 245 282  21 215 192 154\n",
      "  71 272 241 262 249 273 108 240  83 293  39  50  93   1  17 252 224 100\n",
      " 280  42  15 190  19 274 117 263 290 256 201 105 244 234 253 281  16 187\n",
      "  32 165 227 257 176 214 203 148 237  11 122  97 246 125 150 301 279 123\n",
      "  23 260   7   5  18 297  88  65 204 188 167 269 199  98 197  85 130 298\n",
      " 146 132 271   3 228 212 217  61  56 302 287 143  99  81]\n",
      "==============================END==============================\n",
      "\n",
      "==================================Unique values for column ``` Breed2 ``` \n",
      "[  0 264 205 307 117 251 265 218 292 266 285 141 128  96  76 169 306  18\n",
      "  36 303 247 195 252 254 147 178 299   4 179 300 119 103 111 213  25 109\n",
      "  26 278 189  72  70 176 152 228 283 260 248 295 243 246  20  75 240  39\n",
      " 270 239 155 276  78  21 305 242  40 188 187 277 202 294 173 267 296 301\n",
      "  49 190 271  58 192 268 241  44 200 256  19  69 201 250 129 102 262 227\n",
      "  14 304 290 122 159  98  24 249 207 150 282 272 284  10   2 104 245 206\n",
      "  17 257 263  65 237   5 274  60 291 210 288 203 167  83  50 115 130  16\n",
      " 289 302 212   1 293 182 204 146 279]\n",
      "==============================END==============================\n",
      "\n",
      "==================================Unique values for column ``` Gender ``` \n",
      "[1 2 3]\n",
      "==============================END==============================\n",
      "\n",
      "==================================Unique values for column ``` Color1 ``` \n",
      "[1 2 5 6 3 7 4]\n",
      "==============================END==============================\n",
      "\n",
      "==================================Unique values for column ``` Color2 ``` \n",
      "[7 2 0 6 5 4 3]\n",
      "==============================END==============================\n",
      "\n",
      "==================================Unique values for column ``` Color3 ``` \n",
      "[0 7 5 6 4 3]\n",
      "==============================END==============================\n",
      "\n",
      "==================================Unique values for column ``` MaturitySize ``` \n",
      "[1 2 3 4]\n",
      "==============================END==============================\n",
      "\n",
      "==================================Unique values for column ``` FurLength ``` \n",
      "[1 2 3]\n",
      "==============================END==============================\n",
      "\n",
      "==================================Unique values for column ``` Vaccinated ``` \n",
      "[2 3 1]\n",
      "==============================END==============================\n",
      "\n",
      "==================================Unique values for column ``` Dewormed ``` \n",
      "[2 3 1]\n",
      "==============================END==============================\n",
      "\n",
      "==================================Unique values for column ``` Sterilized ``` \n",
      "[2 3 1]\n",
      "==============================END==============================\n",
      "\n",
      "==================================Unique values for column ``` Health ``` \n",
      "[1 2 3]\n",
      "==============================END==============================\n",
      "\n",
      "==================================Unique values for column ``` Quantity ``` \n",
      "[ 1  6  7  5  3 10  2  9  4  8 20 18 12 11 14 17 16 13 15]\n",
      "==============================END==============================\n",
      "\n",
      "==================================Unique values for column ``` Fee ``` \n",
      "[ 100    0  150  300   50   10    1   30  750  400   80   20  250  200\n",
      "   60  120   40  500   15  135    5  350    8    9  550   90  110  220\n",
      "   70   89  280  450   14   35  600   38 1000  180   25   65  700  170\n",
      "  480   45  155   48  299  160  688    2  270  650   99   88  210  188\n",
      "  380  115  108  385  390   72 3000   59  800  235 2000  599  125  330\n",
      "  499  320   75  190]\n",
      "==============================END==============================\n",
      "\n",
      "==================================Unique values for column ``` State ``` \n",
      "[41326 41401 41330 41327 41361 41336 41324 41335 41325 41332 41345 41342\n",
      " 41367 41415]\n",
      "==============================END==============================\n",
      "\n",
      "==================================Unique values for column ``` RescuerID ``` \n",
      "['8480853f516546f6cf33aa88cd76c379' '3082c7125d8fb66f7dd4bff4192c8b14'\n",
      " 'fa90fa5b1ee11c86938398b60abc32cb' ... '5f86038e50ce0def545e64f9a06ab5e2'\n",
      " '42fa36434aabf0e23fe579cdf84daf4a' '79309f4027f2fedb4349a298c69fe56f']\n",
      "==============================END==============================\n",
      "\n",
      "==================================Unique values for column ``` VideoAmt ``` \n",
      "[0 1 3 4 2 6 5 7 8]\n",
      "==============================END==============================\n",
      "\n",
      "==================================Unique values for column ``` Description ``` \n",
      "[\"Nibble is a 3+ month old ball of cuteness. He is energetic and playful. I rescued a couple of cats a few months ago but could not get them neutered in time as the clinic was fully scheduled. The result was this little kitty. I do not have enough space and funds to care for more cats in my household. Looking for responsible people to take over Nibble's care.\"\n",
      " 'I just found it alone yesterday near my apartment. It was shaking so I had to bring it home to provide temporary care.'\n",
      " 'Their pregnant mother was dumped by her irresponsible owner at the roadside near some shops in Subang Jaya. Gave birth to them at the roadside. They are all healthy and adorable puppies. Already dewormed, vaccinated and ready to go to a home. No tying or caging for long hours as guard dogs. However, it is acceptable to cage or tie for precautionary purposes. Interested to adopt pls call me.'\n",
      " ... 'Mix breed, good temperament kittens. Love humans. Very friendly.'\n",
      " 'she is very shy..adventures and independent..she just hates cages..but loves climbing trees and rooftops..however she is very loving.'\n",
      " 'Fili just loves laying around and also loves being under the sun; Very laidback and quiet.']\n",
      "==============================END==============================\n",
      "\n",
      "==================================Unique values for column ``` PhotoAmt ``` \n",
      "[ 1.  2.  7.  8.  3.  9.  6.  5.  0. 19. 11.  4. 13. 15. 21. 18. 12. 10.\n",
      " 24. 14. 16. 23. 28. 20. 26. 27. 22. 30. 29. 17. 25.]\n",
      "==============================END==============================\n",
      "\n",
      "==================================Unique values for column ``` Type ``` \n",
      "[2 1]\n",
      "==============================END==============================\n",
      "\n",
      "==================================Unique values for column ``` AdoptionSpeed ``` \n",
      "[2 0 3 1 4]\n",
      "==============================END==============================\n",
      "\n"
     ]
    }
   ],
   "source": [
    "unique_values(df)"
   ]
  },
  {
   "cell_type": "markdown",
   "metadata": {
    "id": "moJUq85NSRnQ"
   },
   "source": [
    "# Data Preparation"
   ]
  },
  {
   "cell_type": "markdown",
   "metadata": {
    "id": "uX70mpwNS_di"
   },
   "source": [
    "# Modelling"
   ]
  },
  {
   "cell_type": "markdown",
   "metadata": {},
   "source": [
    "## Try to understnad and then apply the concepts as required. THe code seems correct but can't be trusted until and unless applied on the problem."
   ]
  },
  {
   "cell_type": "code",
   "execution_count": null,
   "metadata": {},
   "outputs": [],
   "source": [
    "from sklearn.model_selection import train_test_split\n",
    "from sklearn.pipeline import Pipeline\n",
    "from sklearn.compose import ColumnTransformer\n",
    "from sklearn.impute import SimpleImputer\n",
    "from sklearn.preprocessing import StandardScaler, OneHotEncoder\n",
    "from sklearn.linear_model import LogisticRegression\n",
    "from sklearn.multioutput import MultiOutputClassifier\n",
    "\n",
    "# Separate features and targets\n",
    "X = df.drop(['Type', 'AdoptionSpeed'], axis=1)\n",
    "y_type = df['Type']\n",
    "y_speed = df['AdoptionSpeed']\n",
    "\n",
    "# Split data into train and test sets\n",
    "X_train, X_test, y_train_type, y_test_type = train_test_split(\n",
    "    X, y_type, test_size=0.2, random_state=42)\n",
    "\n",
    "# Define preprocessing for numerical and categorical data\n",
    "numeric_features = ['Age', 'Quantity', 'Fee', 'VideoAmt', 'PhotoAmt']\n",
    "categorical_features = ['Name', 'Breed1', 'Breed2', 'Gender', 'Color1', 'Color2',\n",
    "                        'Color3', 'MaturitySize', 'FurLength', 'Vaccinated', 'Dewormed',\n",
    "                        'Sterilized', 'Health', 'State', 'RescuerID', 'Description']\n",
    "\n",
    "numeric_transformer = Pipeline(steps=[\n",
    "    ('imputer', SimpleImputer(strategy='median')),\n",
    "    ('scaler', StandardScaler())])\n",
    "\n",
    "categorical_transformer = Pipeline(steps=[\n",
    "    ('imputer', SimpleImputer(strategy='constant', fill_value='missing')),\n",
    "    ('onehot', OneHotEncoder(handle_unknown='ignore'))])\n",
    "\n",
    "preprocessor = ColumnTransformer(\n",
    "    transformers=[\n",
    "        ('num', numeric_transformer, numeric_features),\n",
    "        ('cat', categorical_transformer, categorical_features)])\n",
    "\n",
    "# Define classifiers for type and speed prediction\n",
    "classifier_type = LogisticRegression()\n",
    "classifier_speed = LogisticRegression()\n",
    "\n",
    "# Bundle preprocessing and modeling code in a pipeline\n",
    "pipeline_type = Pipeline(steps=[('preprocessor', preprocessor),\n",
    "                                ('classifier', MultiOutputClassifier(classifier_type))])\n",
    "\n",
    "# Fit the pipeline for type prediction\n",
    "pipeline_type.fit(X_train, y_train_type)\n",
    "\n",
    "# Use the predicted type as a feature for speed prediction\n",
    "X_train_with_type = X_train.copy()\n",
    "X_train_with_type['PredictedType'] = pipeline_type.predict(X_train)\n",
    "\n",
    "# Split the augmented training data into train and test sets\n",
    "X_train_augmented, X_test_augmented, y_train_speed, y_test_speed = train_test_split(\n",
    "    X_train_with_type, y_speed, test_size=0.2, random_state=42)\n",
    "\n",
    "# Fit the pipeline for speed prediction using augmented data\n",
    "pipeline_speed = Pipeline(steps=[('preprocessor', preprocessor),\n",
    "                                 ('classifier', classifier_speed)])\n",
    "pipeline_speed.fit(X_train_augmented, y_train_speed)\n",
    "\n",
    "# Predictions\n",
    "y_pred_speed = pipeline_speed.predict(X_test_augmented)\n"
   ]
  },
  {
   "cell_type": "markdown",
   "metadata": {
    "id": "1Pzwe4Q9TBYr"
   },
   "source": [
    "# Evaluation"
   ]
  },
  {
   "cell_type": "code",
   "execution_count": null,
   "metadata": {
    "id": "vHLMU7cjSOMF"
   },
   "outputs": [],
   "source": []
  }
 ],
 "metadata": {
  "colab": {
   "authorship_tag": "ABX9TyNNbb+0f3ITsyd2ZXbuNBvs",
   "provenance": []
  },
  "kernelspec": {
   "display_name": "Python 3 (ipykernel)",
   "language": "python",
   "name": "python3"
  },
  "language_info": {
   "codemirror_mode": {
    "name": "ipython",
    "version": 3
   },
   "file_extension": ".py",
   "mimetype": "text/x-python",
   "name": "python",
   "nbconvert_exporter": "python",
   "pygments_lexer": "ipython3",
   "version": "3.9.18"
  },
  "widgets": {
   "application/vnd.jupyter.widget-state+json": {
    "state": {},
    "version_major": 2,
    "version_minor": 0
   }
  }
 },
 "nbformat": 4,
 "nbformat_minor": 4
}
