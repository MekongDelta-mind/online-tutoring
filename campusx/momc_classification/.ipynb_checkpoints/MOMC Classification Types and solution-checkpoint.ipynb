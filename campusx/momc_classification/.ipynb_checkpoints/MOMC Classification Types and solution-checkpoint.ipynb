{
 "cells": [
  {
   "cell_type": "markdown",
   "metadata": {
    "id": "tkDd4s9kTK4c"
   },
   "source": [
    "# Multi-Output Multi-class Classification Problem"
   ]
  },
  {
   "cell_type": "code",
   "execution_count": null,
   "metadata": {
    "id": "mDtt2QQlS1KZ"
   },
   "outputs": [],
   "source": []
  },
  {
   "cell_type": "markdown",
   "metadata": {
    "id": "hInasDayTV9m"
   },
   "source": [
    "# Multi Class Classification Problem"
   ]
  },
  {
   "cell_type": "code",
   "execution_count": 2,
   "metadata": {
    "executionInfo": {
     "elapsed": 4,
     "status": "ok",
     "timestamp": 1710776745720,
     "user": {
      "displayName": "Prabin Kumar Nayak",
      "userId": "08357207907825346919"
     },
     "user_tz": -330
    },
    "id": "krW69-peOejc"
   },
   "outputs": [],
   "source": [
    "from sklearn.datasets import make_classification\n",
    "from sklearn.linear_model import LogisticRegression\n",
    "import pandas as pd"
   ]
  },
  {
   "cell_type": "code",
   "execution_count": 3,
   "metadata": {
    "executionInfo": {
     "elapsed": 2,
     "status": "ok",
     "timestamp": 1710776746452,
     "user": {
      "displayName": "Prabin Kumar Nayak",
      "userId": "08357207907825346919"
     },
     "user_tz": -330
    },
    "id": "A9XfIy1jOg_R"
   },
   "outputs": [],
   "source": [
    "# define dataset\n",
    "X, y = make_classification(n_samples=1000, n_features=10, n_informative=5, n_redundant=5, n_classes=3, random_state=1)"
   ]
  },
  {
   "cell_type": "code",
   "execution_count": 4,
   "metadata": {
    "colab": {
     "base_uri": "https://localhost:8080/"
    },
    "executionInfo": {
     "elapsed": 3,
     "status": "ok",
     "timestamp": 1710776747090,
     "user": {
      "displayName": "Prabin Kumar Nayak",
      "userId": "08357207907825346919"
     },
     "user_tz": -330
    },
    "id": "-vGxrdYIOiQI",
    "outputId": "0ea66028-f97d-467e-8112-afacd0e9887c"
   },
   "outputs": [
    {
     "data": {
      "text/plain": [
       "((1000, 10), (1000,))"
      ]
     },
     "execution_count": 4,
     "metadata": {},
     "output_type": "execute_result"
    }
   ],
   "source": [
    "X.shape, y.shape"
   ]
  },
  {
   "cell_type": "code",
   "execution_count": 5,
   "metadata": {
    "executionInfo": {
     "elapsed": 3,
     "status": "ok",
     "timestamp": 1710776749209,
     "user": {
      "displayName": "Prabin Kumar Nayak",
      "userId": "08357207907825346919"
     },
     "user_tz": -330
    },
    "id": "oGtulxxHOjj6"
   },
   "outputs": [],
   "source": [
    "# Convert NumPy arrays to Pandas DataFrame and Series\n",
    "X_df = pd.DataFrame(X, columns=[f'feature_{i+1}' for i in range(X.shape[1])])\n",
    "y_series = pd.Series(y, name='target')"
   ]
  },
  {
   "cell_type": "code",
   "execution_count": 6,
   "metadata": {
    "executionInfo": {
     "elapsed": 3,
     "status": "ok",
     "timestamp": 1710776749784,
     "user": {
      "displayName": "Prabin Kumar Nayak",
      "userId": "08357207907825346919"
     },
     "user_tz": -330
    },
    "id": "0NdoQjm8Ok__"
   },
   "outputs": [],
   "source": [
    "# Concatenate X and y along the columns axis to create the final DataFrame\n",
    "df_oomc = pd.concat([X_df, y_series], axis=1)"
   ]
  },
  {
   "cell_type": "code",
   "execution_count": 7,
   "metadata": {
    "colab": {
     "base_uri": "https://localhost:8080/",
     "height": 206
    },
    "executionInfo": {
     "elapsed": 10,
     "status": "ok",
     "timestamp": 1710776779159,
     "user": {
      "displayName": "Prabin Kumar Nayak",
      "userId": "08357207907825346919"
     },
     "user_tz": -330
    },
    "id": "hPkEnuXuOn0c",
    "outputId": "256c4bbf-1c83-4585-82b8-78aee55ed639"
   },
   "outputs": [
    {
     "data": {
      "text/html": [
       "<div>\n",
       "<style scoped>\n",
       "    .dataframe tbody tr th:only-of-type {\n",
       "        vertical-align: middle;\n",
       "    }\n",
       "\n",
       "    .dataframe tbody tr th {\n",
       "        vertical-align: top;\n",
       "    }\n",
       "\n",
       "    .dataframe thead th {\n",
       "        text-align: right;\n",
       "    }\n",
       "</style>\n",
       "<table border=\"1\" class=\"dataframe\">\n",
       "  <thead>\n",
       "    <tr style=\"text-align: right;\">\n",
       "      <th></th>\n",
       "      <th>feature_1</th>\n",
       "      <th>feature_2</th>\n",
       "      <th>feature_3</th>\n",
       "      <th>feature_4</th>\n",
       "      <th>feature_5</th>\n",
       "      <th>feature_6</th>\n",
       "      <th>feature_7</th>\n",
       "      <th>feature_8</th>\n",
       "      <th>feature_9</th>\n",
       "      <th>feature_10</th>\n",
       "      <th>target</th>\n",
       "    </tr>\n",
       "  </thead>\n",
       "  <tbody>\n",
       "    <tr>\n",
       "      <th>0</th>\n",
       "      <td>1.891494</td>\n",
       "      <td>-0.398476</td>\n",
       "      <td>1.638569</td>\n",
       "      <td>0.016472</td>\n",
       "      <td>1.518924</td>\n",
       "      <td>-3.526512</td>\n",
       "      <td>1.809988</td>\n",
       "      <td>0.588109</td>\n",
       "      <td>-0.025422</td>\n",
       "      <td>-0.528354</td>\n",
       "      <td>1</td>\n",
       "    </tr>\n",
       "    <tr>\n",
       "      <th>1</th>\n",
       "      <td>1.869138</td>\n",
       "      <td>-0.563362</td>\n",
       "      <td>2.034118</td>\n",
       "      <td>0.386694</td>\n",
       "      <td>-0.095840</td>\n",
       "      <td>-2.927240</td>\n",
       "      <td>0.739217</td>\n",
       "      <td>-0.556330</td>\n",
       "      <td>-0.273400</td>\n",
       "      <td>0.721293</td>\n",
       "      <td>0</td>\n",
       "    </tr>\n",
       "    <tr>\n",
       "      <th>2</th>\n",
       "      <td>1.952597</td>\n",
       "      <td>-2.831446</td>\n",
       "      <td>0.190555</td>\n",
       "      <td>-0.663887</td>\n",
       "      <td>0.191591</td>\n",
       "      <td>-1.859121</td>\n",
       "      <td>-0.101502</td>\n",
       "      <td>-0.609577</td>\n",
       "      <td>-2.077502</td>\n",
       "      <td>-1.754700</td>\n",
       "      <td>1</td>\n",
       "    </tr>\n",
       "    <tr>\n",
       "      <th>3</th>\n",
       "      <td>-0.670425</td>\n",
       "      <td>-0.690820</td>\n",
       "      <td>0.593548</td>\n",
       "      <td>-0.062704</td>\n",
       "      <td>2.373577</td>\n",
       "      <td>-0.521060</td>\n",
       "      <td>0.428725</td>\n",
       "      <td>-0.268511</td>\n",
       "      <td>0.492262</td>\n",
       "      <td>-1.343840</td>\n",
       "      <td>2</td>\n",
       "    </tr>\n",
       "    <tr>\n",
       "      <th>4</th>\n",
       "      <td>-1.398901</td>\n",
       "      <td>-0.715230</td>\n",
       "      <td>-0.677451</td>\n",
       "      <td>0.391539</td>\n",
       "      <td>-0.458324</td>\n",
       "      <td>2.178984</td>\n",
       "      <td>-1.885502</td>\n",
       "      <td>-0.966866</td>\n",
       "      <td>-0.425888</td>\n",
       "      <td>-0.207826</td>\n",
       "      <td>0</td>\n",
       "    </tr>\n",
       "  </tbody>\n",
       "</table>\n",
       "</div>"
      ],
      "text/plain": [
       "   feature_1  feature_2  feature_3  feature_4  feature_5  feature_6  \\\n",
       "0   1.891494  -0.398476   1.638569   0.016472   1.518924  -3.526512   \n",
       "1   1.869138  -0.563362   2.034118   0.386694  -0.095840  -2.927240   \n",
       "2   1.952597  -2.831446   0.190555  -0.663887   0.191591  -1.859121   \n",
       "3  -0.670425  -0.690820   0.593548  -0.062704   2.373577  -0.521060   \n",
       "4  -1.398901  -0.715230  -0.677451   0.391539  -0.458324   2.178984   \n",
       "\n",
       "   feature_7  feature_8  feature_9  feature_10  target  \n",
       "0   1.809988   0.588109  -0.025422   -0.528354       1  \n",
       "1   0.739217  -0.556330  -0.273400    0.721293       0  \n",
       "2  -0.101502  -0.609577  -2.077502   -1.754700       1  \n",
       "3   0.428725  -0.268511   0.492262   -1.343840       2  \n",
       "4  -1.885502  -0.966866  -0.425888   -0.207826       0  "
      ]
     },
     "execution_count": 7,
     "metadata": {},
     "output_type": "execute_result"
    }
   ],
   "source": [
    "df_oomc.head()"
   ]
  },
  {
   "cell_type": "code",
   "execution_count": 8,
   "metadata": {
    "colab": {
     "base_uri": "https://localhost:8080/"
    },
    "executionInfo": {
     "elapsed": 6,
     "status": "ok",
     "timestamp": 1710776768755,
     "user": {
      "displayName": "Prabin Kumar Nayak",
      "userId": "08357207907825346919"
     },
     "user_tz": -330
    },
    "id": "STNV6dnjGDTC",
    "outputId": "fdc213bc-1cea-4013-d171-72d93e713fe8"
   },
   "outputs": [
    {
     "data": {
      "text/plain": [
       "array([1, 0, 2])"
      ]
     },
     "execution_count": 8,
     "metadata": {},
     "output_type": "execute_result"
    }
   ],
   "source": [
    "df_oomc['target'].unique()"
   ]
  },
  {
   "cell_type": "code",
   "execution_count": 9,
   "metadata": {
    "colab": {
     "base_uri": "https://localhost:8080/"
    },
    "executionInfo": {
     "elapsed": 4,
     "status": "ok",
     "timestamp": 1710776769425,
     "user": {
      "displayName": "Prabin Kumar Nayak",
      "userId": "08357207907825346919"
     },
     "user_tz": -330
    },
    "id": "rd3C4rEEGMGW",
    "outputId": "9a755682-7224-4abb-c445-b3ce71546fb5"
   },
   "outputs": [
    {
     "data": {
      "text/plain": [
       "target\n",
       "1    334\n",
       "2    334\n",
       "0    332\n",
       "Name: count, dtype: int64"
      ]
     },
     "execution_count": 9,
     "metadata": {},
     "output_type": "execute_result"
    }
   ],
   "source": [
    "df_oomc['target'].value_counts()"
   ]
  },
  {
   "cell_type": "code",
   "execution_count": 10,
   "metadata": {
    "colab": {
     "base_uri": "https://localhost:8080/"
    },
    "executionInfo": {
     "elapsed": 762,
     "status": "ok",
     "timestamp": 1710776773528,
     "user": {
      "displayName": "Prabin Kumar Nayak",
      "userId": "08357207907825346919"
     },
     "user_tz": -330
    },
    "id": "Ns-BRzHFHJHv",
    "outputId": "dbcc34a9-2c23-4c0d-f2be-8f664de46114"
   },
   "outputs": [
    {
     "data": {
      "text/plain": [
       "target\n",
       "0    332\n",
       "1    334\n",
       "2    334\n",
       "dtype: int64"
      ]
     },
     "execution_count": 10,
     "metadata": {},
     "output_type": "execute_result"
    }
   ],
   "source": [
    "df_oomc.groupby('target').size()"
   ]
  },
  {
   "cell_type": "markdown",
   "metadata": {
    "id": "qDBjEZzUTqfu"
   },
   "source": [
    "## One-vs-Rest and One-vs-One for Multi-Class Classification"
   ]
  },
  {
   "cell_type": "code",
   "execution_count": 11,
   "metadata": {
    "executionInfo": {
     "elapsed": 757,
     "status": "ok",
     "timestamp": 1710774257264,
     "user": {
      "displayName": "Prabin Kumar Nayak",
      "userId": "08357207907825346919"
     },
     "user_tz": -330
    },
    "id": "5uFZbLZWT48u"
   },
   "outputs": [],
   "source": [
    "# logistic regression for multi-class classification using built-in one-vs-rest\n",
    "from sklearn.datasets import make_classification\n",
    "from sklearn.linear_model import LogisticRegression\n",
    "import pandas as pd"
   ]
  },
  {
   "cell_type": "code",
   "execution_count": 12,
   "metadata": {
    "executionInfo": {
     "elapsed": 8,
     "status": "ok",
     "timestamp": 1710773351306,
     "user": {
      "displayName": "Prabin Kumar Nayak",
      "userId": "08357207907825346919"
     },
     "user_tz": -330
    },
    "id": "-0mLAqecT7JR"
   },
   "outputs": [],
   "source": [
    "# define dataset\n",
    "X, y = make_classification(n_samples=1000, n_features=10, n_informative=5, n_redundant=5, n_classes=3, random_state=1)"
   ]
  },
  {
   "cell_type": "code",
   "execution_count": 13,
   "metadata": {
    "colab": {
     "base_uri": "https://localhost:8080/"
    },
    "executionInfo": {
     "elapsed": 12,
     "status": "ok",
     "timestamp": 1710773394523,
     "user": {
      "displayName": "Prabin Kumar Nayak",
      "userId": "08357207907825346919"
     },
     "user_tz": -330
    },
    "id": "DHG5eqsKCTYb",
    "outputId": "d6dec2c0-e0f6-4b14-f524-4de1efc0a27e"
   },
   "outputs": [
    {
     "data": {
      "text/plain": [
       "(numpy.ndarray, numpy.ndarray)"
      ]
     },
     "execution_count": 13,
     "metadata": {},
     "output_type": "execute_result"
    }
   ],
   "source": [
    "type(X), type(y)"
   ]
  },
  {
   "cell_type": "code",
   "execution_count": 14,
   "metadata": {
    "executionInfo": {
     "elapsed": 5,
     "status": "ok",
     "timestamp": 1710773366249,
     "user": {
      "displayName": "Prabin Kumar Nayak",
      "userId": "08357207907825346919"
     },
     "user_tz": -330
    },
    "id": "EygX2ebOT_E7"
   },
   "outputs": [],
   "source": [
    "# define model\n",
    "model = LogisticRegression(multi_class='ovr')"
   ]
  },
  {
   "cell_type": "code",
   "execution_count": 15,
   "metadata": {
    "colab": {
     "base_uri": "https://localhost:8080/",
     "height": 74
    },
    "executionInfo": {
     "elapsed": 12,
     "status": "ok",
     "timestamp": 1710773366793,
     "user": {
      "displayName": "Prabin Kumar Nayak",
      "userId": "08357207907825346919"
     },
     "user_tz": -330
    },
    "id": "LYWoda0bUBIM",
    "outputId": "c6b9f33b-aaa4-4b01-89b3-e99f69cf3e0e"
   },
   "outputs": [
    {
     "data": {
      "text/html": [
       "<style>#sk-container-id-1 {\n",
       "  /* Definition of color scheme common for light and dark mode */\n",
       "  --sklearn-color-text: black;\n",
       "  --sklearn-color-line: gray;\n",
       "  /* Definition of color scheme for unfitted estimators */\n",
       "  --sklearn-color-unfitted-level-0: #fff5e6;\n",
       "  --sklearn-color-unfitted-level-1: #f6e4d2;\n",
       "  --sklearn-color-unfitted-level-2: #ffe0b3;\n",
       "  --sklearn-color-unfitted-level-3: chocolate;\n",
       "  /* Definition of color scheme for fitted estimators */\n",
       "  --sklearn-color-fitted-level-0: #f0f8ff;\n",
       "  --sklearn-color-fitted-level-1: #d4ebff;\n",
       "  --sklearn-color-fitted-level-2: #b3dbfd;\n",
       "  --sklearn-color-fitted-level-3: cornflowerblue;\n",
       "\n",
       "  /* Specific color for light theme */\n",
       "  --sklearn-color-text-on-default-background: var(--sg-text-color, var(--theme-code-foreground, var(--jp-content-font-color1, black)));\n",
       "  --sklearn-color-background: var(--sg-background-color, var(--theme-background, var(--jp-layout-color0, white)));\n",
       "  --sklearn-color-border-box: var(--sg-text-color, var(--theme-code-foreground, var(--jp-content-font-color1, black)));\n",
       "  --sklearn-color-icon: #696969;\n",
       "\n",
       "  @media (prefers-color-scheme: dark) {\n",
       "    /* Redefinition of color scheme for dark theme */\n",
       "    --sklearn-color-text-on-default-background: var(--sg-text-color, var(--theme-code-foreground, var(--jp-content-font-color1, white)));\n",
       "    --sklearn-color-background: var(--sg-background-color, var(--theme-background, var(--jp-layout-color0, #111)));\n",
       "    --sklearn-color-border-box: var(--sg-text-color, var(--theme-code-foreground, var(--jp-content-font-color1, white)));\n",
       "    --sklearn-color-icon: #878787;\n",
       "  }\n",
       "}\n",
       "\n",
       "#sk-container-id-1 {\n",
       "  color: var(--sklearn-color-text);\n",
       "}\n",
       "\n",
       "#sk-container-id-1 pre {\n",
       "  padding: 0;\n",
       "}\n",
       "\n",
       "#sk-container-id-1 input.sk-hidden--visually {\n",
       "  border: 0;\n",
       "  clip: rect(1px 1px 1px 1px);\n",
       "  clip: rect(1px, 1px, 1px, 1px);\n",
       "  height: 1px;\n",
       "  margin: -1px;\n",
       "  overflow: hidden;\n",
       "  padding: 0;\n",
       "  position: absolute;\n",
       "  width: 1px;\n",
       "}\n",
       "\n",
       "#sk-container-id-1 div.sk-dashed-wrapped {\n",
       "  border: 1px dashed var(--sklearn-color-line);\n",
       "  margin: 0 0.4em 0.5em 0.4em;\n",
       "  box-sizing: border-box;\n",
       "  padding-bottom: 0.4em;\n",
       "  background-color: var(--sklearn-color-background);\n",
       "}\n",
       "\n",
       "#sk-container-id-1 div.sk-container {\n",
       "  /* jupyter's `normalize.less` sets `[hidden] { display: none; }`\n",
       "     but bootstrap.min.css set `[hidden] { display: none !important; }`\n",
       "     so we also need the `!important` here to be able to override the\n",
       "     default hidden behavior on the sphinx rendered scikit-learn.org.\n",
       "     See: https://github.com/scikit-learn/scikit-learn/issues/21755 */\n",
       "  display: inline-block !important;\n",
       "  position: relative;\n",
       "}\n",
       "\n",
       "#sk-container-id-1 div.sk-text-repr-fallback {\n",
       "  display: none;\n",
       "}\n",
       "\n",
       "div.sk-parallel-item,\n",
       "div.sk-serial,\n",
       "div.sk-item {\n",
       "  /* draw centered vertical line to link estimators */\n",
       "  background-image: linear-gradient(var(--sklearn-color-text-on-default-background), var(--sklearn-color-text-on-default-background));\n",
       "  background-size: 2px 100%;\n",
       "  background-repeat: no-repeat;\n",
       "  background-position: center center;\n",
       "}\n",
       "\n",
       "/* Parallel-specific style estimator block */\n",
       "\n",
       "#sk-container-id-1 div.sk-parallel-item::after {\n",
       "  content: \"\";\n",
       "  width: 100%;\n",
       "  border-bottom: 2px solid var(--sklearn-color-text-on-default-background);\n",
       "  flex-grow: 1;\n",
       "}\n",
       "\n",
       "#sk-container-id-1 div.sk-parallel {\n",
       "  display: flex;\n",
       "  align-items: stretch;\n",
       "  justify-content: center;\n",
       "  background-color: var(--sklearn-color-background);\n",
       "  position: relative;\n",
       "}\n",
       "\n",
       "#sk-container-id-1 div.sk-parallel-item {\n",
       "  display: flex;\n",
       "  flex-direction: column;\n",
       "}\n",
       "\n",
       "#sk-container-id-1 div.sk-parallel-item:first-child::after {\n",
       "  align-self: flex-end;\n",
       "  width: 50%;\n",
       "}\n",
       "\n",
       "#sk-container-id-1 div.sk-parallel-item:last-child::after {\n",
       "  align-self: flex-start;\n",
       "  width: 50%;\n",
       "}\n",
       "\n",
       "#sk-container-id-1 div.sk-parallel-item:only-child::after {\n",
       "  width: 0;\n",
       "}\n",
       "\n",
       "/* Serial-specific style estimator block */\n",
       "\n",
       "#sk-container-id-1 div.sk-serial {\n",
       "  display: flex;\n",
       "  flex-direction: column;\n",
       "  align-items: center;\n",
       "  background-color: var(--sklearn-color-background);\n",
       "  padding-right: 1em;\n",
       "  padding-left: 1em;\n",
       "}\n",
       "\n",
       "\n",
       "/* Toggleable style: style used for estimator/Pipeline/ColumnTransformer box that is\n",
       "clickable and can be expanded/collapsed.\n",
       "- Pipeline and ColumnTransformer use this feature and define the default style\n",
       "- Estimators will overwrite some part of the style using the `sk-estimator` class\n",
       "*/\n",
       "\n",
       "/* Pipeline and ColumnTransformer style (default) */\n",
       "\n",
       "#sk-container-id-1 div.sk-toggleable {\n",
       "  /* Default theme specific background. It is overwritten whether we have a\n",
       "  specific estimator or a Pipeline/ColumnTransformer */\n",
       "  background-color: var(--sklearn-color-background);\n",
       "}\n",
       "\n",
       "/* Toggleable label */\n",
       "#sk-container-id-1 label.sk-toggleable__label {\n",
       "  cursor: pointer;\n",
       "  display: block;\n",
       "  width: 100%;\n",
       "  margin-bottom: 0;\n",
       "  padding: 0.5em;\n",
       "  box-sizing: border-box;\n",
       "  text-align: center;\n",
       "}\n",
       "\n",
       "#sk-container-id-1 label.sk-toggleable__label-arrow:before {\n",
       "  /* Arrow on the left of the label */\n",
       "  content: \"▸\";\n",
       "  float: left;\n",
       "  margin-right: 0.25em;\n",
       "  color: var(--sklearn-color-icon);\n",
       "}\n",
       "\n",
       "#sk-container-id-1 label.sk-toggleable__label-arrow:hover:before {\n",
       "  color: var(--sklearn-color-text);\n",
       "}\n",
       "\n",
       "/* Toggleable content - dropdown */\n",
       "\n",
       "#sk-container-id-1 div.sk-toggleable__content {\n",
       "  max-height: 0;\n",
       "  max-width: 0;\n",
       "  overflow: hidden;\n",
       "  text-align: left;\n",
       "  /* unfitted */\n",
       "  background-color: var(--sklearn-color-unfitted-level-0);\n",
       "}\n",
       "\n",
       "#sk-container-id-1 div.sk-toggleable__content.fitted {\n",
       "  /* fitted */\n",
       "  background-color: var(--sklearn-color-fitted-level-0);\n",
       "}\n",
       "\n",
       "#sk-container-id-1 div.sk-toggleable__content pre {\n",
       "  margin: 0.2em;\n",
       "  border-radius: 0.25em;\n",
       "  color: var(--sklearn-color-text);\n",
       "  /* unfitted */\n",
       "  background-color: var(--sklearn-color-unfitted-level-0);\n",
       "}\n",
       "\n",
       "#sk-container-id-1 div.sk-toggleable__content.fitted pre {\n",
       "  /* unfitted */\n",
       "  background-color: var(--sklearn-color-fitted-level-0);\n",
       "}\n",
       "\n",
       "#sk-container-id-1 input.sk-toggleable__control:checked~div.sk-toggleable__content {\n",
       "  /* Expand drop-down */\n",
       "  max-height: 200px;\n",
       "  max-width: 100%;\n",
       "  overflow: auto;\n",
       "}\n",
       "\n",
       "#sk-container-id-1 input.sk-toggleable__control:checked~label.sk-toggleable__label-arrow:before {\n",
       "  content: \"▾\";\n",
       "}\n",
       "\n",
       "/* Pipeline/ColumnTransformer-specific style */\n",
       "\n",
       "#sk-container-id-1 div.sk-label input.sk-toggleable__control:checked~label.sk-toggleable__label {\n",
       "  color: var(--sklearn-color-text);\n",
       "  background-color: var(--sklearn-color-unfitted-level-2);\n",
       "}\n",
       "\n",
       "#sk-container-id-1 div.sk-label.fitted input.sk-toggleable__control:checked~label.sk-toggleable__label {\n",
       "  background-color: var(--sklearn-color-fitted-level-2);\n",
       "}\n",
       "\n",
       "/* Estimator-specific style */\n",
       "\n",
       "/* Colorize estimator box */\n",
       "#sk-container-id-1 div.sk-estimator input.sk-toggleable__control:checked~label.sk-toggleable__label {\n",
       "  /* unfitted */\n",
       "  background-color: var(--sklearn-color-unfitted-level-2);\n",
       "}\n",
       "\n",
       "#sk-container-id-1 div.sk-estimator.fitted input.sk-toggleable__control:checked~label.sk-toggleable__label {\n",
       "  /* fitted */\n",
       "  background-color: var(--sklearn-color-fitted-level-2);\n",
       "}\n",
       "\n",
       "#sk-container-id-1 div.sk-label label.sk-toggleable__label,\n",
       "#sk-container-id-1 div.sk-label label {\n",
       "  /* The background is the default theme color */\n",
       "  color: var(--sklearn-color-text-on-default-background);\n",
       "}\n",
       "\n",
       "/* On hover, darken the color of the background */\n",
       "#sk-container-id-1 div.sk-label:hover label.sk-toggleable__label {\n",
       "  color: var(--sklearn-color-text);\n",
       "  background-color: var(--sklearn-color-unfitted-level-2);\n",
       "}\n",
       "\n",
       "/* Label box, darken color on hover, fitted */\n",
       "#sk-container-id-1 div.sk-label.fitted:hover label.sk-toggleable__label.fitted {\n",
       "  color: var(--sklearn-color-text);\n",
       "  background-color: var(--sklearn-color-fitted-level-2);\n",
       "}\n",
       "\n",
       "/* Estimator label */\n",
       "\n",
       "#sk-container-id-1 div.sk-label label {\n",
       "  font-family: monospace;\n",
       "  font-weight: bold;\n",
       "  display: inline-block;\n",
       "  line-height: 1.2em;\n",
       "}\n",
       "\n",
       "#sk-container-id-1 div.sk-label-container {\n",
       "  text-align: center;\n",
       "}\n",
       "\n",
       "/* Estimator-specific */\n",
       "#sk-container-id-1 div.sk-estimator {\n",
       "  font-family: monospace;\n",
       "  border: 1px dotted var(--sklearn-color-border-box);\n",
       "  border-radius: 0.25em;\n",
       "  box-sizing: border-box;\n",
       "  margin-bottom: 0.5em;\n",
       "  /* unfitted */\n",
       "  background-color: var(--sklearn-color-unfitted-level-0);\n",
       "}\n",
       "\n",
       "#sk-container-id-1 div.sk-estimator.fitted {\n",
       "  /* fitted */\n",
       "  background-color: var(--sklearn-color-fitted-level-0);\n",
       "}\n",
       "\n",
       "/* on hover */\n",
       "#sk-container-id-1 div.sk-estimator:hover {\n",
       "  /* unfitted */\n",
       "  background-color: var(--sklearn-color-unfitted-level-2);\n",
       "}\n",
       "\n",
       "#sk-container-id-1 div.sk-estimator.fitted:hover {\n",
       "  /* fitted */\n",
       "  background-color: var(--sklearn-color-fitted-level-2);\n",
       "}\n",
       "\n",
       "/* Specification for estimator info (e.g. \"i\" and \"?\") */\n",
       "\n",
       "/* Common style for \"i\" and \"?\" */\n",
       "\n",
       ".sk-estimator-doc-link,\n",
       "a:link.sk-estimator-doc-link,\n",
       "a:visited.sk-estimator-doc-link {\n",
       "  float: right;\n",
       "  font-size: smaller;\n",
       "  line-height: 1em;\n",
       "  font-family: monospace;\n",
       "  background-color: var(--sklearn-color-background);\n",
       "  border-radius: 1em;\n",
       "  height: 1em;\n",
       "  width: 1em;\n",
       "  text-decoration: none !important;\n",
       "  margin-left: 1ex;\n",
       "  /* unfitted */\n",
       "  border: var(--sklearn-color-unfitted-level-1) 1pt solid;\n",
       "  color: var(--sklearn-color-unfitted-level-1);\n",
       "}\n",
       "\n",
       ".sk-estimator-doc-link.fitted,\n",
       "a:link.sk-estimator-doc-link.fitted,\n",
       "a:visited.sk-estimator-doc-link.fitted {\n",
       "  /* fitted */\n",
       "  border: var(--sklearn-color-fitted-level-1) 1pt solid;\n",
       "  color: var(--sklearn-color-fitted-level-1);\n",
       "}\n",
       "\n",
       "/* On hover */\n",
       "div.sk-estimator:hover .sk-estimator-doc-link:hover,\n",
       ".sk-estimator-doc-link:hover,\n",
       "div.sk-label-container:hover .sk-estimator-doc-link:hover,\n",
       ".sk-estimator-doc-link:hover {\n",
       "  /* unfitted */\n",
       "  background-color: var(--sklearn-color-unfitted-level-3);\n",
       "  color: var(--sklearn-color-background);\n",
       "  text-decoration: none;\n",
       "}\n",
       "\n",
       "div.sk-estimator.fitted:hover .sk-estimator-doc-link.fitted:hover,\n",
       ".sk-estimator-doc-link.fitted:hover,\n",
       "div.sk-label-container:hover .sk-estimator-doc-link.fitted:hover,\n",
       ".sk-estimator-doc-link.fitted:hover {\n",
       "  /* fitted */\n",
       "  background-color: var(--sklearn-color-fitted-level-3);\n",
       "  color: var(--sklearn-color-background);\n",
       "  text-decoration: none;\n",
       "}\n",
       "\n",
       "/* Span, style for the box shown on hovering the info icon */\n",
       ".sk-estimator-doc-link span {\n",
       "  display: none;\n",
       "  z-index: 9999;\n",
       "  position: relative;\n",
       "  font-weight: normal;\n",
       "  right: .2ex;\n",
       "  padding: .5ex;\n",
       "  margin: .5ex;\n",
       "  width: min-content;\n",
       "  min-width: 20ex;\n",
       "  max-width: 50ex;\n",
       "  color: var(--sklearn-color-text);\n",
       "  box-shadow: 2pt 2pt 4pt #999;\n",
       "  /* unfitted */\n",
       "  background: var(--sklearn-color-unfitted-level-0);\n",
       "  border: .5pt solid var(--sklearn-color-unfitted-level-3);\n",
       "}\n",
       "\n",
       ".sk-estimator-doc-link.fitted span {\n",
       "  /* fitted */\n",
       "  background: var(--sklearn-color-fitted-level-0);\n",
       "  border: var(--sklearn-color-fitted-level-3);\n",
       "}\n",
       "\n",
       ".sk-estimator-doc-link:hover span {\n",
       "  display: block;\n",
       "}\n",
       "\n",
       "/* \"?\"-specific style due to the `<a>` HTML tag */\n",
       "\n",
       "#sk-container-id-1 a.estimator_doc_link {\n",
       "  float: right;\n",
       "  font-size: 1rem;\n",
       "  line-height: 1em;\n",
       "  font-family: monospace;\n",
       "  background-color: var(--sklearn-color-background);\n",
       "  border-radius: 1rem;\n",
       "  height: 1rem;\n",
       "  width: 1rem;\n",
       "  text-decoration: none;\n",
       "  /* unfitted */\n",
       "  color: var(--sklearn-color-unfitted-level-1);\n",
       "  border: var(--sklearn-color-unfitted-level-1) 1pt solid;\n",
       "}\n",
       "\n",
       "#sk-container-id-1 a.estimator_doc_link.fitted {\n",
       "  /* fitted */\n",
       "  border: var(--sklearn-color-fitted-level-1) 1pt solid;\n",
       "  color: var(--sklearn-color-fitted-level-1);\n",
       "}\n",
       "\n",
       "/* On hover */\n",
       "#sk-container-id-1 a.estimator_doc_link:hover {\n",
       "  /* unfitted */\n",
       "  background-color: var(--sklearn-color-unfitted-level-3);\n",
       "  color: var(--sklearn-color-background);\n",
       "  text-decoration: none;\n",
       "}\n",
       "\n",
       "#sk-container-id-1 a.estimator_doc_link.fitted:hover {\n",
       "  /* fitted */\n",
       "  background-color: var(--sklearn-color-fitted-level-3);\n",
       "}\n",
       "</style><div id=\"sk-container-id-1\" class=\"sk-top-container\"><div class=\"sk-text-repr-fallback\"><pre>LogisticRegression(multi_class=&#x27;ovr&#x27;)</pre><b>In a Jupyter environment, please rerun this cell to show the HTML representation or trust the notebook. <br />On GitHub, the HTML representation is unable to render, please try loading this page with nbviewer.org.</b></div><div class=\"sk-container\" hidden><div class=\"sk-item\"><div class=\"sk-estimator fitted sk-toggleable\"><input class=\"sk-toggleable__control sk-hidden--visually\" id=\"sk-estimator-id-1\" type=\"checkbox\" checked><label for=\"sk-estimator-id-1\" class=\"sk-toggleable__label fitted sk-toggleable__label-arrow fitted\">&nbsp;&nbsp;LogisticRegression<a class=\"sk-estimator-doc-link fitted\" rel=\"noreferrer\" target=\"_blank\" href=\"https://scikit-learn.org/1.4/modules/generated/sklearn.linear_model.LogisticRegression.html\">?<span>Documentation for LogisticRegression</span></a><span class=\"sk-estimator-doc-link fitted\">i<span>Fitted</span></span></label><div class=\"sk-toggleable__content fitted\"><pre>LogisticRegression(multi_class=&#x27;ovr&#x27;)</pre></div> </div></div></div></div>"
      ],
      "text/plain": [
       "LogisticRegression(multi_class='ovr')"
      ]
     },
     "execution_count": 15,
     "metadata": {},
     "output_type": "execute_result"
    }
   ],
   "source": [
    "# fit model\n",
    "model.fit(X, y)"
   ]
  },
  {
   "cell_type": "code",
   "execution_count": 16,
   "metadata": {
    "id": "pMVkpsQNTfgP"
   },
   "outputs": [],
   "source": [
    "# make predictions\n",
    "yhat = model.predict(X)"
   ]
  },
  {
   "cell_type": "code",
   "execution_count": 17,
   "metadata": {
    "id": "84Fwkab1UDqE"
   },
   "outputs": [
    {
     "data": {
      "text/plain": [
       "array([1, 0, 1, 2, 0, 2, 1, 2, 0, 1, 1, 0, 2, 1, 0, 1, 2, 0, 1, 0, 0, 1,\n",
       "       0, 2, 0, 0, 2, 0, 1, 1, 2, 1, 0, 2, 0, 0, 0, 1, 1, 2, 2, 1, 0, 1,\n",
       "       0, 2, 0, 0, 0, 2, 0, 1, 2, 0, 2, 2, 1, 2, 1, 0, 2, 2, 2, 1, 0, 1,\n",
       "       1, 1, 0, 2, 0, 2, 2, 1, 0, 0, 0, 0, 0, 1, 2, 0, 2, 0, 2, 2, 2, 1,\n",
       "       0, 1, 2, 1, 1, 1, 0, 2, 0, 2, 1, 1, 0, 1, 1, 0, 0, 0, 2, 2, 2, 2,\n",
       "       1, 0, 0, 1, 2, 0, 0, 0, 0, 2, 2, 2, 1, 0, 1, 2, 2, 0, 1, 0, 2, 1,\n",
       "       0, 0, 2, 0, 0, 0, 0, 1, 1, 1, 0, 0, 1, 1, 2, 0, 0, 1, 1, 1, 2, 1,\n",
       "       0, 0, 2, 2, 1, 0, 2, 1, 2, 2, 1, 0, 2, 0, 2, 1, 0, 0, 0, 0, 0, 1,\n",
       "       2, 0, 2, 1, 0, 1, 0, 0, 1, 0, 0, 0, 1, 0, 1, 2, 1, 0, 0, 1, 1, 0,\n",
       "       2, 1, 1, 0, 1, 1, 0, 0, 0, 1, 2, 2, 0, 2, 0, 1, 0, 2, 2, 0, 0, 2,\n",
       "       2, 1, 2, 2, 1, 0, 1, 1, 2, 1, 1, 1, 1, 2, 1, 1, 1, 1, 2, 0, 2, 2,\n",
       "       2, 2, 0, 0, 0, 1, 2, 2, 2, 0, 2, 2, 2, 2, 1, 2, 0, 1, 1, 0, 1, 2,\n",
       "       1, 2, 0, 2, 0, 0, 0, 2, 1, 1, 0, 0, 1, 1, 2, 0, 1, 1, 1, 1, 2, 0,\n",
       "       0, 0, 1, 2, 0, 0, 1, 0, 0, 2, 0, 0, 2, 1, 2, 0, 2, 2, 0, 2, 0, 2,\n",
       "       1, 1, 2, 2, 1, 2, 0, 1, 2, 2, 2, 0, 0, 0, 1, 2, 1, 0, 2, 1, 0, 1,\n",
       "       2, 0, 0, 1, 1, 2, 0, 1, 0, 0, 1, 2, 1, 1, 2, 2, 0, 2, 1, 1, 0, 1,\n",
       "       0, 0, 0, 0, 0, 0, 1, 2, 2, 0, 0, 0, 1, 0, 0, 1, 2, 1, 0, 2, 1, 0,\n",
       "       1, 0, 1, 1, 1, 0, 1, 0, 2, 0, 1, 1, 0, 1, 1, 1, 1, 0, 0, 0, 1, 2,\n",
       "       2, 2, 0, 0, 0, 1, 1, 1, 1, 0, 2, 2, 0, 1, 2, 1, 0, 2, 0, 0, 1, 1,\n",
       "       0, 2, 2, 0, 2, 2, 0, 1, 0, 0, 0, 0, 1, 0, 0, 2, 1, 0, 0, 2, 1, 0,\n",
       "       0, 2, 1, 1, 2, 0, 0, 2, 0, 1, 0, 0, 0, 2, 0, 0, 0, 1, 0, 1, 0, 1,\n",
       "       0, 0, 0, 1, 0, 0, 1, 2, 1, 2, 0, 0, 2, 1, 2, 0, 0, 1, 2, 2, 1, 2,\n",
       "       1, 1, 1, 0, 2, 2, 1, 1, 2, 2, 1, 0, 2, 0, 1, 1, 1, 0, 1, 1, 0, 0,\n",
       "       0, 1, 0, 2, 2, 1, 2, 2, 1, 2, 2, 2, 2, 2, 0, 1, 0, 0, 1, 1, 0, 1,\n",
       "       0, 2, 1, 0, 0, 0, 0, 1, 2, 1, 1, 0, 0, 1, 0, 0, 1, 2, 1, 2, 0, 1,\n",
       "       1, 1, 2, 0, 1, 1, 0, 0, 2, 1, 0, 2, 0, 1, 1, 2, 0, 0, 2, 1, 1, 2,\n",
       "       0, 1, 2, 0, 2, 1, 2, 2, 2, 2, 2, 0, 2, 0, 0, 2, 0, 2, 2, 0, 2, 0,\n",
       "       0, 2, 0, 0, 2, 0, 1, 0, 1, 2, 0, 0, 1, 0, 0, 2, 2, 2, 0, 1, 1, 0,\n",
       "       0, 0, 2, 2, 0, 0, 1, 2, 0, 2, 0, 1, 1, 1, 2, 2, 0, 2, 1, 0, 0, 2,\n",
       "       2, 0, 1, 1, 2, 0, 0, 0, 1, 1, 0, 1, 0, 0, 2, 0, 2, 0, 0, 2, 1, 2,\n",
       "       2, 2, 2, 1, 1, 1, 2, 0, 1, 0, 0, 2, 0, 1, 0, 0, 0, 0, 2, 0, 0, 1,\n",
       "       1, 0, 0, 1, 0, 0, 2, 1, 1, 2, 0, 0, 2, 2, 0, 0, 1, 1, 2, 1, 0, 2,\n",
       "       2, 2, 0, 0, 2, 0, 0, 2, 1, 0, 2, 2, 0, 0, 1, 0, 1, 0, 1, 1, 2, 1,\n",
       "       0, 0, 1, 0, 1, 1, 0, 1, 1, 1, 2, 1, 2, 1, 0, 1, 1, 2, 0, 1, 0, 0,\n",
       "       0, 0, 1, 1, 2, 1, 0, 2, 0, 1, 2, 0, 0, 0, 1, 1, 0, 0, 0, 0, 0, 0,\n",
       "       0, 0, 0, 0, 2, 1, 0, 1, 2, 2, 0, 1, 2, 0, 2, 1, 1, 1, 1, 1, 0, 0,\n",
       "       0, 0, 0, 0, 1, 2, 2, 1, 0, 0, 1, 2, 0, 2, 1, 0, 0, 0, 1, 2, 0, 1,\n",
       "       1, 0, 2, 1, 2, 0, 0, 2, 2, 1, 2, 1, 0, 2, 2, 0, 1, 2, 1, 2, 0, 2,\n",
       "       0, 2, 2, 1, 2, 0, 0, 1, 2, 2, 1, 1, 2, 0, 1, 2, 0, 0, 2, 0, 2, 2,\n",
       "       0, 0, 2, 2, 0, 0, 0, 0, 1, 0, 0, 0, 0, 0, 2, 2, 2, 2, 2, 2, 1, 2,\n",
       "       0, 0, 0, 2, 1, 1, 0, 2, 1, 1, 0, 1, 2, 2, 1, 0, 2, 0, 0, 0, 2, 1,\n",
       "       2, 0, 1, 1, 1, 1, 1, 1, 1, 1, 1, 0, 0, 1, 2, 1, 2, 0, 1, 2, 2, 1,\n",
       "       0, 0, 1, 0, 1, 0, 0, 2, 1, 1, 2, 1, 0, 1, 1, 0, 2, 2, 0, 0, 2, 1,\n",
       "       1, 2, 1, 2, 2, 2, 2, 2, 0, 0, 0, 1, 1, 0, 0, 2, 1, 0, 0, 1, 1, 1,\n",
       "       0, 1, 2, 0, 2, 1, 0, 2, 1, 1, 2, 2, 1, 2, 1, 0, 0, 1, 0, 2, 1, 0,\n",
       "       1, 1, 2, 0, 1, 2, 1, 1, 2, 1])"
      ]
     },
     "execution_count": 17,
     "metadata": {},
     "output_type": "execute_result"
    }
   ],
   "source": [
    "yhat"
   ]
  },
  {
   "cell_type": "markdown",
   "metadata": {
    "id": "PMIdBxaqHUaN"
   },
   "source": [
    "# One vs Rest"
   ]
  },
  {
   "cell_type": "code",
   "execution_count": 18,
   "metadata": {
    "id": "dmcSu5dzUPIL"
   },
   "outputs": [],
   "source": [
    "# logistic regression for multi-class classification using a one-vs-rest\n",
    "from sklearn.datasets import make_classification\n",
    "from sklearn.linear_model import LogisticRegression\n",
    "from sklearn.multiclass import OneVsRestClassifier"
   ]
  },
  {
   "cell_type": "code",
   "execution_count": 19,
   "metadata": {
    "id": "jOTpPsabUFXG"
   },
   "outputs": [],
   "source": [
    "# define dataset\n",
    "X, y = make_classification(n_samples=1000, n_features=10, n_informative=5, n_redundant=5, n_classes=3, random_state=1)\n",
    "# define model\n",
    "model = LogisticRegression()\n",
    "# define the ovr strategy\n",
    "ovr = OneVsRestClassifier(model)\n",
    "# fit model\n",
    "ovr.fit(X, y)\n",
    "# make predictions\n",
    "yhat = ovr.predict(X)"
   ]
  },
  {
   "cell_type": "code",
   "execution_count": 20,
   "metadata": {
    "id": "GWhV11T8UQTX"
   },
   "outputs": [
    {
     "data": {
      "text/plain": [
       "array([1, 0, 1, 2, 0, 2, 1, 2, 0, 1, 1, 0, 2, 1, 0, 1, 2, 0, 1, 0, 0, 1,\n",
       "       0, 2, 0, 0, 2, 0, 1, 1, 2, 1, 0, 2, 0, 0, 0, 1, 1, 2, 2, 1, 0, 1,\n",
       "       0, 2, 0, 0, 0, 2, 0, 1, 2, 0, 2, 2, 1, 2, 1, 0, 2, 2, 2, 1, 0, 1,\n",
       "       1, 1, 0, 2, 0, 2, 2, 1, 0, 0, 0, 0, 0, 1, 2, 0, 2, 0, 2, 2, 2, 1,\n",
       "       0, 1, 2, 1, 1, 1, 0, 2, 0, 2, 1, 1, 0, 1, 1, 0, 0, 0, 2, 2, 2, 2,\n",
       "       1, 0, 0, 1, 2, 0, 0, 0, 0, 2, 2, 2, 1, 0, 1, 2, 2, 0, 1, 0, 2, 1,\n",
       "       0, 0, 2, 0, 0, 0, 0, 1, 1, 1, 0, 0, 1, 1, 2, 0, 0, 1, 1, 1, 2, 1,\n",
       "       0, 0, 2, 2, 1, 0, 2, 1, 2, 2, 1, 0, 2, 0, 2, 1, 0, 0, 0, 0, 0, 1,\n",
       "       2, 0, 2, 1, 0, 1, 0, 0, 1, 0, 0, 0, 1, 0, 1, 2, 1, 0, 0, 1, 1, 0,\n",
       "       2, 1, 1, 0, 1, 1, 0, 0, 0, 1, 2, 2, 0, 2, 0, 1, 0, 2, 2, 0, 0, 2,\n",
       "       2, 1, 2, 2, 1, 0, 1, 1, 2, 1, 1, 1, 1, 2, 1, 1, 1, 1, 2, 0, 2, 2,\n",
       "       2, 2, 0, 0, 0, 1, 2, 2, 2, 0, 2, 2, 2, 2, 1, 2, 0, 1, 1, 0, 1, 2,\n",
       "       1, 2, 0, 2, 0, 0, 0, 2, 1, 1, 0, 0, 1, 1, 2, 0, 1, 1, 1, 1, 2, 0,\n",
       "       0, 0, 1, 2, 0, 0, 1, 0, 0, 2, 0, 0, 2, 1, 2, 0, 2, 2, 0, 2, 0, 2,\n",
       "       1, 1, 2, 2, 1, 2, 0, 1, 2, 2, 2, 0, 0, 0, 1, 2, 1, 0, 2, 1, 0, 1,\n",
       "       2, 0, 0, 1, 1, 2, 0, 1, 0, 0, 1, 2, 1, 1, 2, 2, 0, 2, 1, 1, 0, 1,\n",
       "       0, 0, 0, 0, 0, 0, 1, 2, 2, 0, 0, 0, 1, 0, 0, 1, 2, 1, 0, 2, 1, 0,\n",
       "       1, 0, 1, 1, 1, 0, 1, 0, 2, 0, 1, 1, 0, 1, 1, 1, 1, 0, 0, 0, 1, 2,\n",
       "       2, 2, 0, 0, 0, 1, 1, 1, 1, 0, 2, 2, 0, 1, 2, 1, 0, 2, 0, 0, 1, 1,\n",
       "       0, 2, 2, 0, 2, 2, 0, 1, 0, 0, 0, 0, 1, 0, 0, 2, 1, 0, 0, 2, 1, 0,\n",
       "       0, 2, 1, 1, 2, 0, 0, 2, 0, 1, 0, 0, 0, 2, 0, 0, 0, 1, 0, 1, 0, 1,\n",
       "       0, 0, 0, 1, 0, 0, 1, 2, 1, 2, 0, 0, 2, 1, 2, 0, 0, 1, 2, 2, 1, 2,\n",
       "       1, 1, 1, 0, 2, 2, 1, 1, 2, 2, 1, 0, 2, 0, 1, 1, 1, 0, 1, 1, 0, 0,\n",
       "       0, 1, 0, 2, 2, 1, 2, 2, 1, 2, 2, 2, 2, 2, 0, 1, 0, 0, 1, 1, 0, 1,\n",
       "       0, 2, 1, 0, 0, 0, 0, 1, 2, 1, 1, 0, 0, 1, 0, 0, 1, 2, 1, 2, 0, 1,\n",
       "       1, 1, 2, 0, 1, 1, 0, 0, 2, 1, 0, 2, 0, 1, 1, 2, 0, 0, 2, 1, 1, 2,\n",
       "       0, 1, 2, 0, 2, 1, 2, 2, 2, 2, 2, 0, 2, 0, 0, 2, 0, 2, 2, 0, 2, 0,\n",
       "       0, 2, 0, 0, 2, 0, 1, 0, 1, 2, 0, 0, 1, 0, 0, 2, 2, 2, 0, 1, 1, 0,\n",
       "       0, 0, 2, 2, 0, 0, 1, 2, 0, 2, 0, 1, 1, 1, 2, 2, 0, 2, 1, 0, 0, 2,\n",
       "       2, 0, 1, 1, 2, 0, 0, 0, 1, 1, 0, 1, 0, 0, 2, 0, 2, 0, 0, 2, 1, 2,\n",
       "       2, 2, 2, 1, 1, 1, 2, 0, 1, 0, 0, 2, 0, 1, 0, 0, 0, 0, 2, 0, 0, 1,\n",
       "       1, 0, 0, 1, 0, 0, 2, 1, 1, 2, 0, 0, 2, 2, 0, 0, 1, 1, 2, 1, 0, 2,\n",
       "       2, 2, 0, 0, 2, 0, 0, 2, 1, 0, 2, 2, 0, 0, 1, 0, 1, 0, 1, 1, 2, 1,\n",
       "       0, 0, 1, 0, 1, 1, 0, 1, 1, 1, 2, 1, 2, 1, 0, 1, 1, 2, 0, 1, 0, 0,\n",
       "       0, 0, 1, 1, 2, 1, 0, 2, 0, 1, 2, 0, 0, 0, 1, 1, 0, 0, 0, 0, 0, 0,\n",
       "       0, 0, 0, 0, 2, 1, 0, 1, 2, 2, 0, 1, 2, 0, 2, 1, 1, 1, 1, 1, 0, 0,\n",
       "       0, 0, 0, 0, 1, 2, 2, 1, 0, 0, 1, 2, 0, 2, 1, 0, 0, 0, 1, 2, 0, 1,\n",
       "       1, 0, 2, 1, 2, 0, 0, 2, 2, 1, 2, 1, 0, 2, 2, 0, 1, 2, 1, 2, 0, 2,\n",
       "       0, 2, 2, 1, 2, 0, 0, 1, 2, 2, 1, 1, 2, 0, 1, 2, 0, 0, 2, 0, 2, 2,\n",
       "       0, 0, 2, 2, 0, 0, 0, 0, 1, 0, 0, 0, 0, 0, 2, 2, 2, 2, 2, 2, 1, 2,\n",
       "       0, 0, 0, 2, 1, 1, 0, 2, 1, 1, 0, 1, 2, 2, 1, 0, 2, 0, 0, 0, 2, 1,\n",
       "       2, 0, 1, 1, 1, 1, 1, 1, 1, 1, 1, 0, 0, 1, 2, 1, 2, 0, 1, 2, 2, 1,\n",
       "       0, 0, 1, 0, 1, 0, 0, 2, 1, 1, 2, 1, 0, 1, 1, 0, 2, 2, 0, 0, 2, 1,\n",
       "       1, 2, 1, 2, 2, 2, 2, 2, 0, 0, 0, 1, 1, 0, 0, 2, 1, 0, 0, 1, 1, 1,\n",
       "       0, 1, 2, 0, 2, 1, 0, 2, 1, 1, 2, 2, 1, 2, 1, 0, 0, 1, 0, 2, 1, 0,\n",
       "       1, 1, 2, 0, 1, 2, 1, 1, 2, 1])"
      ]
     },
     "execution_count": 20,
     "metadata": {},
     "output_type": "execute_result"
    }
   ],
   "source": [
    "yhat"
   ]
  },
  {
   "cell_type": "code",
   "execution_count": 21,
   "metadata": {
    "id": "H8KmhiIGUSSD"
   },
   "outputs": [],
   "source": [
    "# SVM for multi-class classification using one-vs-one\n",
    "from sklearn.datasets import make_classification\n",
    "from sklearn.svm import SVC\n",
    "from sklearn.multiclass import OneVsOneClassifier\n",
    "# define dataset\n",
    "X, y = make_classification(n_samples=1000, n_features=10, n_informative=5, n_redundant=5, n_classes=3, random_state=1)"
   ]
  },
  {
   "cell_type": "code",
   "execution_count": 22,
   "metadata": {
    "id": "kzxzb02oUhc8"
   },
   "outputs": [],
   "source": [
    "# define model\n",
    "model = SVC()\n",
    "# define ovo strategy\n",
    "ovo = OneVsOneClassifier(model)\n",
    "# fit model\n",
    "ovo.fit(X, y)\n",
    "# make predictions\n",
    "yhat = ovo.predict(X)"
   ]
  }
 ],
 "metadata": {
  "colab": {
   "authorship_tag": "ABX9TyMKxsgNxrtdahB/d19BIaJ7",
   "provenance": []
  },
  "kernelspec": {
   "display_name": "Python 3 (ipykernel)",
   "language": "python",
   "name": "python3"
  },
  "language_info": {
   "codemirror_mode": {
    "name": "ipython",
    "version": 3
   },
   "file_extension": ".py",
   "mimetype": "text/x-python",
   "name": "python",
   "nbconvert_exporter": "python",
   "pygments_lexer": "ipython3",
   "version": "3.9.18"
  },
  "widgets": {
   "application/vnd.jupyter.widget-state+json": {
    "state": {},
    "version_major": 2,
    "version_minor": 0
   }
  }
 },
 "nbformat": 4,
 "nbformat_minor": 4
}
