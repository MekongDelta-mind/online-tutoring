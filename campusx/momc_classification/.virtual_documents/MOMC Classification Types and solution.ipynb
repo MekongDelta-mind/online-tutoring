








from sklearn.datasets import make_classification
from sklearn.linear_model import LogisticRegression
import pandas as pd


# define dataset
X, y = make_classification(n_samples=1000, n_features=10, n_informative=5, n_redundant=5, n_classes=3, random_state=1)


X.shape, y.shape


# Convert NumPy arrays to Pandas DataFrame and Series
X_df = pd.DataFrame(X, columns=[f'feature_{i+1}' for i in range(X.shape[1])])
y_series = pd.Series(y, name='target')


# Concatenate X and y along the columns axis to create the final DataFrame
df_oomc = pd.concat([X_df, y_series], axis=1)


df_oomc.head()


df_oomc['target'].unique()


df_oomc['target'].value_counts()


df_oomc.groupby('target').size()
































# logistic regression for multi-class classification using built-in one-vs-rest
from sklearn.datasets import make_classification
from sklearn.linear_model import LogisticRegression
import pandas as pd


# define dataset
X, y = make_classification(n_samples=1000, n_features=10, n_informative=5, n_redundant=5, n_classes=3, random_state=1)


type(X), type(y)


# define model
model = LogisticRegression(multi_class='ovr')


# fit model
model.fit(X, y)


# make predictions
yhat = model.predict(X)


yhat





# logistic regression for multi-class classification using a one-vs-rest
from sklearn.datasets import make_classification
from sklearn.linear_model import LogisticRegression
from sklearn.multiclass import OneVsRestClassifier


# define dataset
X, y = make_classification(n_samples=1000, n_features=10, n_informative=5, n_redundant=5, n_classes=3, random_state=1)
# define model
model = LogisticRegression()
# define the ovr strategy
ovr = OneVsRestClassifier(model)
# fit model
ovr.fit(X, y)
# make predictions
yhat = ovr.predict(X)


yhat


# SVM for multi-class classification using one-vs-one
from sklearn.datasets import make_classification
from sklearn.svm import SVC
from sklearn.multiclass import OneVsOneClassifier
# define dataset
X, y = make_classification(n_samples=1000, n_features=10, n_informative=5, n_redundant=5, n_classes=3, random_state=1)


# define model
model = SVC()
# define ovo strategy
ovo = OneVsOneClassifier(model)
# fit model
ovo.fit(X, y)
# make predictions
yhat = ovo.predict(X)
